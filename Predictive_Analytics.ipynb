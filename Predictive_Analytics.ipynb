{
  "metadata": {
    "kernelspec": {
      "name": "python",
      "display_name": "Python (Pyodide)",
      "language": "python"
    },
    "language_info": {
      "codemirror_mode": {
        "name": "python",
        "version": 3
      },
      "file_extension": ".py",
      "mimetype": "text/x-python",
      "name": "python",
      "nbconvert_exporter": "python",
      "pygments_lexer": "ipython3",
      "version": "3.8"
    }
  },
  "nbformat_minor": 4,
  "nbformat": 4,
  "cells": [
    {
      "cell_type": "code",
      "source": "import pandas as pd\nimport numpy as np\n",
      "metadata": {
        "trusted": true
      },
      "outputs": [],
      "execution_count": 15
    },
    {
      "cell_type": "markdown",
      "source": "Import Numpy and Pandas libraries for reading csv files and to perform analysis",
      "metadata": {}
    },
    {
      "cell_type": "code",
      "source": "df = pd.read_csv('garments_worker_productivity.csv')\ndf.head()",
      "metadata": {
        "trusted": true
      },
      "outputs": [
        {
          "execution_count": 2,
          "output_type": "execute_result",
          "data": {
            "text/plain": "       date   quarter  department       day  team  targeted_productivity  \\\n0  1/1/2015  Quarter1      sweing  Thursday     8                   0.80   \n1  1/1/2015  Quarter1  finishing   Thursday     1                   0.75   \n2  1/1/2015  Quarter1      sweing  Thursday    11                   0.80   \n3  1/1/2015  Quarter1      sweing  Thursday    12                   0.80   \n4  1/1/2015  Quarter1      sweing  Thursday     6                   0.80   \n\n     smv     wip  over_time  incentive  idle_time  idle_men  \\\n0  26.16  1108.0       7080         98        0.0         0   \n1   3.94     NaN        960          0        0.0         0   \n2  11.41   968.0       3660         50        0.0         0   \n3  11.41   968.0       3660         50        0.0         0   \n4  25.90  1170.0       1920         50        0.0         0   \n\n   no_of_style_change  no_of_workers  actual_productivity  \n0                   0           59.0             0.940725  \n1                   0            8.0             0.886500  \n2                   0           30.5             0.800570  \n3                   0           30.5             0.800570  \n4                   0           56.0             0.800382  ",
            "text/html": "<div>\n<style scoped>\n    .dataframe tbody tr th:only-of-type {\n        vertical-align: middle;\n    }\n\n    .dataframe tbody tr th {\n        vertical-align: top;\n    }\n\n    .dataframe thead th {\n        text-align: right;\n    }\n</style>\n<table border=\"1\" class=\"dataframe\">\n  <thead>\n    <tr style=\"text-align: right;\">\n      <th></th>\n      <th>date</th>\n      <th>quarter</th>\n      <th>department</th>\n      <th>day</th>\n      <th>team</th>\n      <th>targeted_productivity</th>\n      <th>smv</th>\n      <th>wip</th>\n      <th>over_time</th>\n      <th>incentive</th>\n      <th>idle_time</th>\n      <th>idle_men</th>\n      <th>no_of_style_change</th>\n      <th>no_of_workers</th>\n      <th>actual_productivity</th>\n    </tr>\n  </thead>\n  <tbody>\n    <tr>\n      <th>0</th>\n      <td>1/1/2015</td>\n      <td>Quarter1</td>\n      <td>sweing</td>\n      <td>Thursday</td>\n      <td>8</td>\n      <td>0.80</td>\n      <td>26.16</td>\n      <td>1108.0</td>\n      <td>7080</td>\n      <td>98</td>\n      <td>0.0</td>\n      <td>0</td>\n      <td>0</td>\n      <td>59.0</td>\n      <td>0.940725</td>\n    </tr>\n    <tr>\n      <th>1</th>\n      <td>1/1/2015</td>\n      <td>Quarter1</td>\n      <td>finishing</td>\n      <td>Thursday</td>\n      <td>1</td>\n      <td>0.75</td>\n      <td>3.94</td>\n      <td>NaN</td>\n      <td>960</td>\n      <td>0</td>\n      <td>0.0</td>\n      <td>0</td>\n      <td>0</td>\n      <td>8.0</td>\n      <td>0.886500</td>\n    </tr>\n    <tr>\n      <th>2</th>\n      <td>1/1/2015</td>\n      <td>Quarter1</td>\n      <td>sweing</td>\n      <td>Thursday</td>\n      <td>11</td>\n      <td>0.80</td>\n      <td>11.41</td>\n      <td>968.0</td>\n      <td>3660</td>\n      <td>50</td>\n      <td>0.0</td>\n      <td>0</td>\n      <td>0</td>\n      <td>30.5</td>\n      <td>0.800570</td>\n    </tr>\n    <tr>\n      <th>3</th>\n      <td>1/1/2015</td>\n      <td>Quarter1</td>\n      <td>sweing</td>\n      <td>Thursday</td>\n      <td>12</td>\n      <td>0.80</td>\n      <td>11.41</td>\n      <td>968.0</td>\n      <td>3660</td>\n      <td>50</td>\n      <td>0.0</td>\n      <td>0</td>\n      <td>0</td>\n      <td>30.5</td>\n      <td>0.800570</td>\n    </tr>\n    <tr>\n      <th>4</th>\n      <td>1/1/2015</td>\n      <td>Quarter1</td>\n      <td>sweing</td>\n      <td>Thursday</td>\n      <td>6</td>\n      <td>0.80</td>\n      <td>25.90</td>\n      <td>1170.0</td>\n      <td>1920</td>\n      <td>50</td>\n      <td>0.0</td>\n      <td>0</td>\n      <td>0</td>\n      <td>56.0</td>\n      <td>0.800382</td>\n    </tr>\n  </tbody>\n</table>\n</div>"
          },
          "metadata": {}
        }
      ],
      "execution_count": 2
    },
    {
      "cell_type": "markdown",
      "source": "Reads the CSV file garments_worker_productivity.csv into a pandas DataFrame called df, which stores the data in a table format",
      "metadata": {}
    },
    {
      "cell_type": "code",
      "source": "df.shape",
      "metadata": {
        "trusted": true
      },
      "outputs": [
        {
          "execution_count": 3,
          "output_type": "execute_result",
          "data": {
            "text/plain": "(1197, 15)"
          },
          "metadata": {}
        }
      ],
      "execution_count": 3
    },
    {
      "cell_type": "markdown",
      "source": "The df.shape function returns the dimensions of the DataFrame, showing the number of rows and columns as a tuple.(1197, 15) means the DataFrame has 1197 rows and 15 columns.",
      "metadata": {}
    },
    {
      "cell_type": "code",
      "source": "df.isnull().sum()\n",
      "metadata": {
        "trusted": true
      },
      "outputs": [
        {
          "execution_count": 4,
          "output_type": "execute_result",
          "data": {
            "text/plain": "date                       0\nquarter                    0\ndepartment                 0\nday                        0\nteam                       0\ntargeted_productivity      0\nsmv                        0\nwip                      506\nover_time                  0\nincentive                  0\nidle_time                  0\nidle_men                   0\nno_of_style_change         0\nno_of_workers              0\nactual_productivity        0\ndtype: int64"
          },
          "metadata": {}
        }
      ],
      "execution_count": 4
    },
    {
      "cell_type": "markdown",
      "source": "df.isnull().sum() shows the number of missing (NaN) values in each column of the DataFrame",
      "metadata": {}
    },
    {
      "cell_type": "code",
      "source": "df.describe()\n",
      "metadata": {
        "trusted": true
      },
      "outputs": [
        {
          "execution_count": 5,
          "output_type": "execute_result",
          "data": {
            "text/plain": "              team  targeted_productivity          smv           wip  \\\ncount  1197.000000            1197.000000  1197.000000    691.000000   \nmean      6.426901               0.729632    15.062172   1190.465991   \nstd       3.463963               0.097891    10.943219   1837.455001   \nmin       1.000000               0.070000     2.900000      7.000000   \n25%       3.000000               0.700000     3.940000    774.500000   \n50%       6.000000               0.750000    15.260000   1039.000000   \n75%       9.000000               0.800000    24.260000   1252.500000   \nmax      12.000000               0.800000    54.560000  23122.000000   \n\n          over_time    incentive    idle_time     idle_men  \\\ncount   1197.000000  1197.000000  1197.000000  1197.000000   \nmean    4567.460317    38.210526     0.730159     0.369256   \nstd     3348.823563   160.182643    12.709757     3.268987   \nmin        0.000000     0.000000     0.000000     0.000000   \n25%     1440.000000     0.000000     0.000000     0.000000   \n50%     3960.000000     0.000000     0.000000     0.000000   \n75%     6960.000000    50.000000     0.000000     0.000000   \nmax    25920.000000  3600.000000   300.000000    45.000000   \n\n       no_of_style_change  no_of_workers  actual_productivity  \ncount         1197.000000    1197.000000          1197.000000  \nmean             0.150376      34.609858             0.735091  \nstd              0.427848      22.197687             0.174488  \nmin              0.000000       2.000000             0.233705  \n25%              0.000000       9.000000             0.650307  \n50%              0.000000      34.000000             0.773333  \n75%              0.000000      57.000000             0.850253  \nmax              2.000000      89.000000             1.120437  ",
            "text/html": "<div>\n<style scoped>\n    .dataframe tbody tr th:only-of-type {\n        vertical-align: middle;\n    }\n\n    .dataframe tbody tr th {\n        vertical-align: top;\n    }\n\n    .dataframe thead th {\n        text-align: right;\n    }\n</style>\n<table border=\"1\" class=\"dataframe\">\n  <thead>\n    <tr style=\"text-align: right;\">\n      <th></th>\n      <th>team</th>\n      <th>targeted_productivity</th>\n      <th>smv</th>\n      <th>wip</th>\n      <th>over_time</th>\n      <th>incentive</th>\n      <th>idle_time</th>\n      <th>idle_men</th>\n      <th>no_of_style_change</th>\n      <th>no_of_workers</th>\n      <th>actual_productivity</th>\n    </tr>\n  </thead>\n  <tbody>\n    <tr>\n      <th>count</th>\n      <td>1197.000000</td>\n      <td>1197.000000</td>\n      <td>1197.000000</td>\n      <td>691.000000</td>\n      <td>1197.000000</td>\n      <td>1197.000000</td>\n      <td>1197.000000</td>\n      <td>1197.000000</td>\n      <td>1197.000000</td>\n      <td>1197.000000</td>\n      <td>1197.000000</td>\n    </tr>\n    <tr>\n      <th>mean</th>\n      <td>6.426901</td>\n      <td>0.729632</td>\n      <td>15.062172</td>\n      <td>1190.465991</td>\n      <td>4567.460317</td>\n      <td>38.210526</td>\n      <td>0.730159</td>\n      <td>0.369256</td>\n      <td>0.150376</td>\n      <td>34.609858</td>\n      <td>0.735091</td>\n    </tr>\n    <tr>\n      <th>std</th>\n      <td>3.463963</td>\n      <td>0.097891</td>\n      <td>10.943219</td>\n      <td>1837.455001</td>\n      <td>3348.823563</td>\n      <td>160.182643</td>\n      <td>12.709757</td>\n      <td>3.268987</td>\n      <td>0.427848</td>\n      <td>22.197687</td>\n      <td>0.174488</td>\n    </tr>\n    <tr>\n      <th>min</th>\n      <td>1.000000</td>\n      <td>0.070000</td>\n      <td>2.900000</td>\n      <td>7.000000</td>\n      <td>0.000000</td>\n      <td>0.000000</td>\n      <td>0.000000</td>\n      <td>0.000000</td>\n      <td>0.000000</td>\n      <td>2.000000</td>\n      <td>0.233705</td>\n    </tr>\n    <tr>\n      <th>25%</th>\n      <td>3.000000</td>\n      <td>0.700000</td>\n      <td>3.940000</td>\n      <td>774.500000</td>\n      <td>1440.000000</td>\n      <td>0.000000</td>\n      <td>0.000000</td>\n      <td>0.000000</td>\n      <td>0.000000</td>\n      <td>9.000000</td>\n      <td>0.650307</td>\n    </tr>\n    <tr>\n      <th>50%</th>\n      <td>6.000000</td>\n      <td>0.750000</td>\n      <td>15.260000</td>\n      <td>1039.000000</td>\n      <td>3960.000000</td>\n      <td>0.000000</td>\n      <td>0.000000</td>\n      <td>0.000000</td>\n      <td>0.000000</td>\n      <td>34.000000</td>\n      <td>0.773333</td>\n    </tr>\n    <tr>\n      <th>75%</th>\n      <td>9.000000</td>\n      <td>0.800000</td>\n      <td>24.260000</td>\n      <td>1252.500000</td>\n      <td>6960.000000</td>\n      <td>50.000000</td>\n      <td>0.000000</td>\n      <td>0.000000</td>\n      <td>0.000000</td>\n      <td>57.000000</td>\n      <td>0.850253</td>\n    </tr>\n    <tr>\n      <th>max</th>\n      <td>12.000000</td>\n      <td>0.800000</td>\n      <td>54.560000</td>\n      <td>23122.000000</td>\n      <td>25920.000000</td>\n      <td>3600.000000</td>\n      <td>300.000000</td>\n      <td>45.000000</td>\n      <td>2.000000</td>\n      <td>89.000000</td>\n      <td>1.120437</td>\n    </tr>\n  </tbody>\n</table>\n</div>"
          },
          "metadata": {}
        }
      ],
      "execution_count": 5
    },
    {
      "cell_type": "markdown",
      "source": "df.describe() provides a statistical summary of the DataFrame, including count, mean, standard deviation, minimum, maximum, and quartiles for each numeric column.",
      "metadata": {}
    },
    {
      "cell_type": "code",
      "source": "df.dtypes\n",
      "metadata": {
        "trusted": true
      },
      "outputs": [
        {
          "execution_count": 6,
          "output_type": "execute_result",
          "data": {
            "text/plain": "date                      object\nquarter                   object\ndepartment                object\nday                       object\nteam                       int64\ntargeted_productivity    float64\nsmv                      float64\nwip                      float64\nover_time                  int64\nincentive                  int64\nidle_time                float64\nidle_men                   int64\nno_of_style_change         int64\nno_of_workers            float64\nactual_productivity      float64\ndtype: object"
          },
          "metadata": {}
        }
      ],
      "execution_count": 6
    },
    {
      "cell_type": "markdown",
      "source": "df.dtypes displays the data types of each column in the DataFrame. This helps you understand the kind of data each column holds, such as int64, float64, or object",
      "metadata": {}
    },
    {
      "cell_type": "code",
      "source": "# Select only numeric columns\nnumeric_df = df.select_dtypes(include=[np.number])\n\n# Calculate correlation matrix\ncorrelation_matrix = numeric_df.corr()\n\n# Display the correlation matrix\ncorrelation_matrix",
      "metadata": {
        "trusted": true
      },
      "outputs": [
        {
          "execution_count": 11,
          "output_type": "execute_result",
          "data": {
            "text/plain": "                           team  targeted_productivity       smv       wip  \\\nteam                   1.000000               0.030274 -0.110011 -0.033474   \ntargeted_productivity  0.030274               1.000000 -0.069489  0.062054   \nsmv                   -0.110011              -0.069489  1.000000 -0.037837   \nwip                   -0.033474               0.062054 -0.037837  1.000000   \nover_time             -0.096737              -0.088557  0.674887  0.022302   \nincentive             -0.007674               0.032768  0.032629  0.167210   \nidle_time              0.003796              -0.056181  0.056863 -0.026299   \nidle_men               0.026974              -0.053818  0.105901 -0.048718   \nno_of_style_change    -0.011194              -0.209294  0.315388 -0.072357   \nno_of_workers         -0.075113              -0.084288  0.912176  0.030383   \nactual_productivity   -0.148753               0.421594 -0.122089  0.131147   \n\n                       over_time  incentive  idle_time  idle_men  \\\nteam                   -0.096737  -0.007674   0.003796  0.026974   \ntargeted_productivity  -0.088557   0.032768  -0.056181 -0.053818   \nsmv                     0.674887   0.032629   0.056863  0.105901   \nwip                     0.022302   0.167210  -0.026299 -0.048718   \nover_time               1.000000  -0.004793   0.031038 -0.017913   \nincentive              -0.004793   1.000000  -0.012024 -0.021140   \nidle_time               0.031038  -0.012024   1.000000  0.559146   \nidle_men               -0.017913  -0.021140   0.559146  1.000000   \nno_of_style_change      0.059790  -0.026607  -0.011598  0.133632   \nno_of_workers           0.734164   0.049222   0.058049  0.106946   \nactual_productivity    -0.054206   0.076538  -0.080851 -0.181734   \n\n                       no_of_style_change  no_of_workers  actual_productivity  \nteam                            -0.011194      -0.075113            -0.148753  \ntargeted_productivity           -0.209294      -0.084288             0.421594  \nsmv                              0.315388       0.912176            -0.122089  \nwip                             -0.072357       0.030383             0.131147  \nover_time                        0.059790       0.734164            -0.054206  \nincentive                       -0.026607       0.049222             0.076538  \nidle_time                       -0.011598       0.058049            -0.080851  \nidle_men                         0.133632       0.106946            -0.181734  \nno_of_style_change               1.000000       0.327787            -0.207366  \nno_of_workers                    0.327787       1.000000            -0.057991  \nactual_productivity             -0.207366      -0.057991             1.000000  ",
            "text/html": "<div>\n<style scoped>\n    .dataframe tbody tr th:only-of-type {\n        vertical-align: middle;\n    }\n\n    .dataframe tbody tr th {\n        vertical-align: top;\n    }\n\n    .dataframe thead th {\n        text-align: right;\n    }\n</style>\n<table border=\"1\" class=\"dataframe\">\n  <thead>\n    <tr style=\"text-align: right;\">\n      <th></th>\n      <th>team</th>\n      <th>targeted_productivity</th>\n      <th>smv</th>\n      <th>wip</th>\n      <th>over_time</th>\n      <th>incentive</th>\n      <th>idle_time</th>\n      <th>idle_men</th>\n      <th>no_of_style_change</th>\n      <th>no_of_workers</th>\n      <th>actual_productivity</th>\n    </tr>\n  </thead>\n  <tbody>\n    <tr>\n      <th>team</th>\n      <td>1.000000</td>\n      <td>0.030274</td>\n      <td>-0.110011</td>\n      <td>-0.033474</td>\n      <td>-0.096737</td>\n      <td>-0.007674</td>\n      <td>0.003796</td>\n      <td>0.026974</td>\n      <td>-0.011194</td>\n      <td>-0.075113</td>\n      <td>-0.148753</td>\n    </tr>\n    <tr>\n      <th>targeted_productivity</th>\n      <td>0.030274</td>\n      <td>1.000000</td>\n      <td>-0.069489</td>\n      <td>0.062054</td>\n      <td>-0.088557</td>\n      <td>0.032768</td>\n      <td>-0.056181</td>\n      <td>-0.053818</td>\n      <td>-0.209294</td>\n      <td>-0.084288</td>\n      <td>0.421594</td>\n    </tr>\n    <tr>\n      <th>smv</th>\n      <td>-0.110011</td>\n      <td>-0.069489</td>\n      <td>1.000000</td>\n      <td>-0.037837</td>\n      <td>0.674887</td>\n      <td>0.032629</td>\n      <td>0.056863</td>\n      <td>0.105901</td>\n      <td>0.315388</td>\n      <td>0.912176</td>\n      <td>-0.122089</td>\n    </tr>\n    <tr>\n      <th>wip</th>\n      <td>-0.033474</td>\n      <td>0.062054</td>\n      <td>-0.037837</td>\n      <td>1.000000</td>\n      <td>0.022302</td>\n      <td>0.167210</td>\n      <td>-0.026299</td>\n      <td>-0.048718</td>\n      <td>-0.072357</td>\n      <td>0.030383</td>\n      <td>0.131147</td>\n    </tr>\n    <tr>\n      <th>over_time</th>\n      <td>-0.096737</td>\n      <td>-0.088557</td>\n      <td>0.674887</td>\n      <td>0.022302</td>\n      <td>1.000000</td>\n      <td>-0.004793</td>\n      <td>0.031038</td>\n      <td>-0.017913</td>\n      <td>0.059790</td>\n      <td>0.734164</td>\n      <td>-0.054206</td>\n    </tr>\n    <tr>\n      <th>incentive</th>\n      <td>-0.007674</td>\n      <td>0.032768</td>\n      <td>0.032629</td>\n      <td>0.167210</td>\n      <td>-0.004793</td>\n      <td>1.000000</td>\n      <td>-0.012024</td>\n      <td>-0.021140</td>\n      <td>-0.026607</td>\n      <td>0.049222</td>\n      <td>0.076538</td>\n    </tr>\n    <tr>\n      <th>idle_time</th>\n      <td>0.003796</td>\n      <td>-0.056181</td>\n      <td>0.056863</td>\n      <td>-0.026299</td>\n      <td>0.031038</td>\n      <td>-0.012024</td>\n      <td>1.000000</td>\n      <td>0.559146</td>\n      <td>-0.011598</td>\n      <td>0.058049</td>\n      <td>-0.080851</td>\n    </tr>\n    <tr>\n      <th>idle_men</th>\n      <td>0.026974</td>\n      <td>-0.053818</td>\n      <td>0.105901</td>\n      <td>-0.048718</td>\n      <td>-0.017913</td>\n      <td>-0.021140</td>\n      <td>0.559146</td>\n      <td>1.000000</td>\n      <td>0.133632</td>\n      <td>0.106946</td>\n      <td>-0.181734</td>\n    </tr>\n    <tr>\n      <th>no_of_style_change</th>\n      <td>-0.011194</td>\n      <td>-0.209294</td>\n      <td>0.315388</td>\n      <td>-0.072357</td>\n      <td>0.059790</td>\n      <td>-0.026607</td>\n      <td>-0.011598</td>\n      <td>0.133632</td>\n      <td>1.000000</td>\n      <td>0.327787</td>\n      <td>-0.207366</td>\n    </tr>\n    <tr>\n      <th>no_of_workers</th>\n      <td>-0.075113</td>\n      <td>-0.084288</td>\n      <td>0.912176</td>\n      <td>0.030383</td>\n      <td>0.734164</td>\n      <td>0.049222</td>\n      <td>0.058049</td>\n      <td>0.106946</td>\n      <td>0.327787</td>\n      <td>1.000000</td>\n      <td>-0.057991</td>\n    </tr>\n    <tr>\n      <th>actual_productivity</th>\n      <td>-0.148753</td>\n      <td>0.421594</td>\n      <td>-0.122089</td>\n      <td>0.131147</td>\n      <td>-0.054206</td>\n      <td>0.076538</td>\n      <td>-0.080851</td>\n      <td>-0.181734</td>\n      <td>-0.207366</td>\n      <td>-0.057991</td>\n      <td>1.000000</td>\n    </tr>\n  </tbody>\n</table>\n</div>"
          },
          "metadata": {}
        }
      ],
      "execution_count": 11
    },
    {
      "cell_type": "markdown",
      "source": "Targeted Productivity has a moderate positive correlation with actual productivity (0.42), meaning higher targets slightly boost actual performance.\n\nSMV (task complexity) is strongly correlated with number of workers (0.91) and overtime (0.67), showing that complex tasks need more labor and time.\n\nIdle time and idle workers negatively impact actual productivity (correlations of -0.08 and -0.18, respectively).\nStyle changes also reduce productivity (-0.21), as frequent changes cause disruptions.\n\nOvertime has a weak negative effect on actual productivity (-0.05), indicating it may not improve outcomes efficiently.",
      "metadata": {}
    },
    {
      "cell_type": "code",
      "source": "# Check for duplicate rows\ndf.duplicated().sum()",
      "metadata": {
        "trusted": true
      },
      "outputs": [
        {
          "execution_count": 13,
          "output_type": "execute_result",
          "data": {
            "text/plain": "0"
          },
          "metadata": {}
        }
      ],
      "execution_count": 13
    },
    {
      "cell_type": "markdown",
      "source": "df.duplicated().sum() counts the total number of duplicate rows in the DataFrame",
      "metadata": {}
    },
    {
      "cell_type": "code",
      "source": "# Summary of the dataset\ndf.info()",
      "metadata": {
        "trusted": true
      },
      "outputs": [
        {
          "name": "stdout",
          "text": "<class 'pandas.core.frame.DataFrame'>\nRangeIndex: 1197 entries, 0 to 1196\nData columns (total 15 columns):\n #   Column                 Non-Null Count  Dtype  \n---  ------                 --------------  -----  \n 0   date                   1197 non-null   object \n 1   quarter                1197 non-null   object \n 2   department             1197 non-null   object \n 3   day                    1197 non-null   object \n 4   team                   1197 non-null   int64  \n 5   targeted_productivity  1197 non-null   float64\n 6   smv                    1197 non-null   float64\n 7   wip                    691 non-null    float64\n 8   over_time              1197 non-null   int64  \n 9   incentive              1197 non-null   int64  \n 10  idle_time              1197 non-null   float64\n 11  idle_men               1197 non-null   int64  \n 12  no_of_style_change     1197 non-null   int64  \n 13  no_of_workers          1197 non-null   float64\n 14  actual_productivity    1197 non-null   float64\ndtypes: float64(6), int64(5), object(4)\nmemory usage: 121.6+ KB\n",
          "output_type": "stream"
        }
      ],
      "execution_count": 14
    },
    {
      "cell_type": "markdown",
      "source": "df.info() provides a concise summary of the DataFrame",
      "metadata": {}
    },
    {
      "cell_type": "code",
      "source": "",
      "metadata": {
        "trusted": true
      },
      "outputs": [],
      "execution_count": null
    }
  ]
}